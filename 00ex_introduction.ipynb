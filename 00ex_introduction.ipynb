{
 "cells": [
  {
   "cell_type": "markdown",
   "metadata": {},
   "source": [
    "1. The MickeyMouse problem\n",
    "\n",
    "a) Write a program that prints the numbers from 1 to 100. But for multiples of 3 print `Mickey` instead of the corresponding number and for the multiples of 5 print `Mouse`. For numbers which are multiples of both three and five print `MickeyMouse`\n",
    "\n",
    "b) Put the result in a tuple and substitute `Mickey` with `Donald` and `Mouse` with `Duck`"
   ]
  },
  {
   "cell_type": "code",
   "execution_count": 35,
   "metadata": {},
   "outputs": [
    {
     "name": "stdout",
     "output_type": "stream",
     "text": [
      "[1, 2, 'Mickey', 4, 'Mouse', 'Mickey', 7, 8, 'Mickey', 'Mouse', 11, 'Mickey', 13, 14, 'MickeyMouse', 16, 17, 'Mickey', 19, 'Mouse', 'Mickey', 22, 23, 'Mickey', 'Mouse', 26, 'Mickey', 28, 29, 'MickeyMouse', 31, 32, 'Mickey', 34, 'Mouse', 'Mickey', 37, 38, 'Mickey', 'Mouse', 41, 'Mickey', 43, 44, 'MickeyMouse', 46, 47, 'Mickey', 49, 'Mouse', 'Mickey', 52, 53, 'Mickey', 'Mouse', 56, 'Mickey', 58, 59, 'MickeyMouse', 61, 62, 'Mickey', 64, 'Mouse', 'Mickey', 67, 68, 'Mickey', 'Mouse', 71, 'Mickey', 73, 74, 'MickeyMouse', 76, 77, 'Mickey', 79, 'Mouse', 'Mickey', 82, 83, 'Mickey', 'Mouse', 86, 'Mickey', 88, 89, 'MickeyMouse', 91, 92, 'Mickey', 94, 'Mouse', 'Mickey', 97, 98, 'Mickey', 'Mouse']\n"
     ]
    }
   ],
   "source": [
    "a = []\n",
    "for i in range(1,101):\n",
    "    if i%5 == 0 and i%3 == 0:\n",
    "        i=\"MickeyMouse\"\n",
    "    elif i%5 == 0:\n",
    "        i=\"Mouse\"\n",
    "    elif i%3 == 0:\n",
    "        i=\"Mickey\"\n",
    "    #print(i)\n",
    "    a.append(i)\n",
    "print(a)\n"
   ]
  },
  {
   "cell_type": "code",
   "execution_count": 44,
   "metadata": {},
   "outputs": [
    {
     "name": "stdout",
     "output_type": "stream",
     "text": [
      "(1, 2, 'Donald', 4, 'Duck', 'Donald', 7, 8, 'Donald', 'Duck', 11, 'Donald', 13, 14, 'MickeyMouse', 16, 17, 'Donald', 19, 'Duck', 'Donald', 22, 23, 'Donald', 'Duck', 26, 'Donald', 28, 29, 'MickeyMouse', 31, 32, 'Donald', 34, 'Duck', 'Donald', 37, 38, 'Donald', 'Duck', 41, 'Donald', 43, 44, 'MickeyMouse', 46, 47, 'Donald', 49, 'Duck', 'Donald', 52, 53, 'Donald', 'Duck', 56, 'Donald', 58, 59, 'MickeyMouse', 61, 62, 'Donald', 64, 'Duck', 'Donald', 67, 68, 'Donald', 'Duck', 71, 'Donald', 73, 74, 'MickeyMouse', 76, 77, 'Donald', 79, 'Duck', 'Donald', 82, 83, 'Donald', 'Duck', 86, 'Donald', 88, 89, 'MickeyMouse', 91, 92, 'Donald', 94, 'Duck', 'Donald', 97, 98, 'Donald', 'Duck')\n"
     ]
    }
   ],
   "source": [
    "#tupla = tuple(a)\n",
    "\n",
    "#print(tupla)\n",
    "b=[]\n",
    "for i in range(len(a)):\n",
    "    if a[i] == \"Mickey\":\n",
    "        i=\"Donald\"\n",
    "    elif a[i] == \"Mouse\":\n",
    "        i=\"Duck\"\n",
    "    else:\n",
    "        i=a[i]\n",
    "    b.append(i)\n",
    "print(tuple(b))"
   ]
  },
  {
   "cell_type": "markdown",
   "metadata": {},
   "source": [
    "2\\. The swap function\n",
    "\n",
    "Write a function that swap the values of two input variables x and y (whatever the type). Try to do that also without a temporary variable"
   ]
  },
  {
   "cell_type": "code",
   "execution_count": 1,
   "metadata": {},
   "outputs": [
    {
     "name": "stdout",
     "output_type": "stream",
     "text": [
      "Inserisci un numero o una stringa per la x: 9\n",
      "Inserisci un numero o una stringa per la y: 6\n",
      "valore_y_x= 6 valore_x_y= 9\n"
     ]
    }
   ],
   "source": [
    "valore_x = input(\"Inserisci un numero o una stringa per la x: \")\n",
    "valore_y = input(\"Inserisci un numero o una stringa per la y: \")\n",
    "a=[]\n",
    "a.append(valore_x)\n",
    "a.append(valore_y)\n",
    "b=[a[1],a[0]]\n",
    "print(\"valore_y_x=\", b[0], \"valore_x_y=\", b[1])"
   ]
  },
  {
   "cell_type": "markdown",
   "metadata": {},
   "source": [
    "3\\. Computing the distance\n",
    "\n",
    "Write a function that calculates and returns the euclidean distance between two points *u* and *v*, where *u* and *v* are both 2-tuples *(x,y)*. For example, if *u=(3,0)* and *v=(0,4)*, the function should return 5"
   ]
  },
  {
   "cell_type": "code",
   "execution_count": 2,
   "metadata": {},
   "outputs": [
    {
     "name": "stdout",
     "output_type": "stream",
     "text": [
      "Enter coords here w/ a comma between: 3,0\n",
      "Enter coords here w/ a comma between: 0,4\n",
      "The euclidean distance is: 5.00\n"
     ]
    }
   ],
   "source": [
    "import numpy as np\n",
    "#x1, y1 = input(\"Enter coords here w/ a comma between: \").split(',')\n",
    "#x2, y2 = input(\"Enter coords here w/ a comma between: \").split(',')\n",
    "\n",
    "#x1, y1 = [float(x1), float(y1)]\n",
    "#x2, y2 = [float(x2), float(y2)]\n",
    "\n",
    "#print(x1, y1)\n",
    "#print(x2, y2)\n",
    "\n",
    "\n",
    "#x1, y1 = [int(x) for x in input(\"Inserisci le coord del punto: \").split()]\n",
    "#x2, y2 = [int(x) for x in input(\"Inserisci le coord del punto: \").split()]\n",
    "\n",
    "#x1,y1 = input(\"inserisci le coord del primo punto separate da una virgola:\")\n",
    "#x2,y2 = float(input(\"inserisci le coord del secondo punto separate da una virgola:\"))\n",
    "\n",
    "#define function\n",
    "def euclidean_distance(x1, y1, x2, y2):\n",
    "    try:\n",
    "        dist = np.sqrt(np.sum((x1-y1)**2+(x2-y2)**2))\n",
    "        return dist\n",
    "        #print(\"The euclidean distance is: %.2f\" % dist)\n",
    "    #if the input isn't a number\n",
    "    except:\n",
    "        print(\"The arguments must be floats or ints\")\n",
    "\n",
    "#inputs        \n",
    "x1, y1 = input(\"Enter coords here w/ a comma between: \").split(',')\n",
    "x2, y2 = input(\"Enter coords here w/ a comma between: \").split(',')\n",
    "\n",
    "#make them floats\n",
    "x1, y1 = [float(x1), float(y1)]\n",
    "x2, y2 = [float(x2), float(y2)]\n",
    "\n",
    "#print the distance value\n",
    "distance = euclidean_distance(x1, y1, x2, y2)\n",
    "print(\"The euclidean distance is: %.2f\" % distance)"
   ]
  },
  {
   "cell_type": "markdown",
   "metadata": {},
   "source": [
    "4\\. Counting letters\n",
    "\n",
    "Write a program to calculate the number of times each character occurs in a given string *s*. Ignore differneces in capitalization"
   ]
  },
  {
   "cell_type": "code",
   "execution_count": 51,
   "metadata": {},
   "outputs": [],
   "source": [
    "s=\"Write a program that prints the numbers from 1 to 100. \\\n",
    "But for multiples of three print Mickey instead of the number and for the multiples of five print Mouse. \\\n",
    "For numbers which are multiples of both three and five print MickeyMouse\""
   ]
  },
  {
   "cell_type": "code",
   "execution_count": 33,
   "metadata": {},
   "outputs": [
    {
     "name": "stdout",
     "output_type": "stream",
     "text": [
      "7\n"
     ]
    }
   ],
   "source": [
    "#First method: counts the occurence of the character given in the func\n",
    "\n",
    "def count(s, c) :\n",
    "     \n",
    "    # Count variable\n",
    "    res = 0\n",
    "     \n",
    "    for i in range(len(s)) :\n",
    "        s = s.lower() \n",
    "        # Checking character in string\n",
    "        if (s[i] == c):\n",
    "            res = res + 1\n",
    "    return res\n",
    "\n",
    "print(count(s, 'a'))"
   ]
  },
  {
   "cell_type": "code",
   "execution_count": 37,
   "metadata": {},
   "outputs": [
    {
     "name": "stdout",
     "output_type": "stream",
     "text": [
      "Occurrence of all characters in string is :\n",
      " {'.': 2, 'v': 2, '1': 2, 'w': 2, 'i': 14, 'g': 1, ' ': 41, 'b': 5, 'n': 10, 'p': 8, 'h': 9, '0': 2, 's': 9, 'y': 2, 'a': 7, 'k': 2, 'e': 22, 'm': 12, 'o': 13, 'u': 9, 't': 19, 'd': 3, 'c': 3, 'f': 10, 'r': 17, 'l': 6}\n"
     ]
    }
   ],
   "source": [
    "#Second method: using count() and set()\n",
    "  \n",
    "# initializing string \n",
    "inp_str = s.lower()\n",
    "  \n",
    "# using set() + count() to get count of each element in string \n",
    "out = {x : inp_str.count(x) for x in set(inp_str )} \n",
    "  \n",
    "# printing result \n",
    "print (\"Occurrence of all characters in string is :\\n \"+ str(out))"
   ]
  },
  {
   "cell_type": "code",
   "execution_count": 50,
   "metadata": {},
   "outputs": [
    {
     "name": "stdout",
     "output_type": "stream",
     "text": [
      "Occurrence of all characters in string is :\n",
      " {' ': 41, '.': 2, '0': 2, '1': 2, 'a': 7, 'b': 5, 'c': 3, 'd': 3, 'e': 22, 'f': 10, 'g': 1, 'h': 9, 'i': 14, 'k': 2, 'l': 6, 'm': 12, 'n': 10, 'o': 13, 'p': 8, 'r': 17, 's': 9, 't': 19, 'u': 9, 'v': 2, 'w': 2, 'y': 2}\n"
     ]
    }
   ],
   "source": [
    "#Third method: using a dictionary\n",
    "\n",
    "# initializing string \n",
    "inp_str = sorted(s.lower())\n",
    "\n",
    "#frequency dictionary\n",
    "freq = {} \n",
    "    \n",
    "for ele in inp_str: \n",
    "    if ele in freq: \n",
    "        freq[ele] += 1\n",
    "    else: \n",
    "        freq[ele] = 1\n",
    "    \n",
    "# printing result  \n",
    "print (\"Occurrence of all characters in string is :\\n \"+ str(freq))"
   ]
  },
  {
   "cell_type": "code",
   "execution_count": 54,
   "metadata": {},
   "outputs": [
    {
     "name": "stdout",
     "output_type": "stream",
     "text": [
      "Occurrence of all characters in string is :\n",
      " [' ', '.', '0', '1', 'a', 'b', 'c', 'd', 'e', 'f', 'g', 'h', 'i', 'k', 'l', 'm', 'n', 'o', 'p', 'r', 's', 't', 'u', 'v', 'w', 'y']\n"
     ]
    }
   ],
   "source": [
    "#Fouth method: using collection (can't sort alphabetically)\n",
    "\n",
    "from collections import Counter \n",
    "    \n",
    "# initializing string  \n",
    "in_str = sorted(s.lower())\n",
    "    \n",
    "# using collections.Counter() to get  \n",
    "# count of each element in string  \n",
    "out = Counter(in_str) \n",
    "    \n",
    "# printing result  \n",
    "print (\"Occurrence of all characters in string is :\\n \"+ str(out))"
   ]
  },
  {
   "cell_type": "markdown",
   "metadata": {},
   "source": [
    "5\\. Isolating the unique\n",
    "\n",
    "Write a function that determines and count the unique numbers in the list *l*"
   ]
  },
  {
   "cell_type": "code",
   "execution_count": 56,
   "metadata": {},
   "outputs": [],
   "source": [
    "l = [36, 45, 58, 3, 74, 96, 64, 45, 31, 10, 24, 19, 33, 86, 99, 18, 63, 70, 85,\n",
    " 85, 63, 47, 56, 42, 70, 84, 88, 55, 20, 54, 8, 56, 51, 79, 81, 57, 37, 91,\n",
    " 1, 84, 84, 36, 66, 9, 89, 50, 42, 91, 50, 95, 90, 98, 39, 16, 82, 31, 92, 41,\n",
    " 45, 30, 66, 70, 34, 85, 94, 5, 3, 36, 72, 91, 84, 34, 87, 75, 53, 51, 20, 89, 51, 20]"
   ]
  },
  {
   "cell_type": "code",
   "execution_count": 58,
   "metadata": {},
   "outputs": [
    {
     "name": "stdout",
     "output_type": "stream",
     "text": [
      "Occurrence of all characters in string is :\n",
      " {1: 1, 3: 2, 5: 1, 8: 1, 9: 1, 10: 1, 16: 1, 18: 1, 19: 1, 20: 3, 24: 1, 30: 1, 31: 2, 33: 1, 34: 2, 36: 3, 37: 1, 39: 1, 41: 1, 42: 2, 45: 3, 47: 1, 50: 2, 51: 3, 53: 1, 54: 1, 55: 1, 56: 2, 57: 1, 58: 1, 63: 2, 64: 1, 66: 2, 70: 3, 72: 1, 74: 1, 75: 1, 79: 1, 81: 1, 82: 1, 84: 4, 85: 3, 86: 1, 87: 1, 88: 1, 89: 2, 90: 1, 91: 3, 92: 1, 94: 1, 95: 1, 96: 1, 98: 1, 99: 1}\n"
     ]
    }
   ],
   "source": [
    "inp_lst = sorted(l)\n",
    "\n",
    "freq = {} \n",
    "    \n",
    "for ele in inp_lst: \n",
    "    if ele in freq: \n",
    "        freq[ele] += 1\n",
    "    else: \n",
    "        freq[ele] = 1\n",
    "print (\"Occurrence of numbers in list is :\\n \"+ str(freq))"
   ]
  },
  {
   "cell_type": "markdown",
   "metadata": {},
   "source": [
    "6\\. Combination of functions\n",
    "\n",
    "Write two functions - one that returns the square of a number, and one that returns the cube. Now write a third function that returns the number raised to the 6th power using the two previous functions."
   ]
  },
  {
   "cell_type": "code",
   "execution_count": 68,
   "metadata": {},
   "outputs": [
    {
     "name": "stdout",
     "output_type": "stream",
     "text": [
      "Insert number to be raised: x=2\n",
      "The sixth power of  2.0 is:  64.0\n"
     ]
    }
   ],
   "source": [
    "def square(x):\n",
    "    quad = x**2\n",
    "    return quad\n",
    "\n",
    "def cube(x):\n",
    "    cubo = x**3\n",
    "    return cubo\n",
    "\n",
    "def sixth(x):\n",
    "    c = cube(square(x))\n",
    "    return c\n",
    "\n",
    "x = float(input(\"Insert number to be raised: x=\"))\n",
    "\n",
    "s = sixth(x) \n",
    "print(\"The sixth power of \", x, \"is: \", s)"
   ]
  },
  {
   "cell_type": "markdown",
   "metadata": {},
   "source": [
    "7\\. Cubes\n",
    "\n",
    "Create a list of the cubes of x for x in *[0, 10]* using:\n",
    "\n",
    "a) a for loop\n",
    "\n",
    "b) a list comprehension"
   ]
  },
  {
   "cell_type": "code",
   "execution_count": 78,
   "metadata": {},
   "outputs": [
    {
     "name": "stdout",
     "output_type": "stream",
     "text": [
      "0^3 = 0\n",
      "1^3 = 1\n",
      "2^3 = 8\n",
      "3^3 = 27\n",
      "4^3 = 64\n",
      "5^3 = 125\n",
      "6^3 = 216\n",
      "7^3 = 343\n",
      "8^3 = 512\n",
      "9^3 = 729\n",
      "10^3 = 1000\n"
     ]
    }
   ],
   "source": [
    "a = []\n",
    "for x in range(0, 10+1):\n",
    "    cube = x**3\n",
    "    a.append(cube)\n",
    "    print(str(x)+\"^3\" , \"=\", a[x])\n",
    "    "
   ]
  },
  {
   "cell_type": "code",
   "execution_count": 79,
   "metadata": {},
   "outputs": [
    {
     "name": "stdout",
     "output_type": "stream",
     "text": [
      "[0, 1, 8, 27, 64, 125, 216, 343, 512, 729, 1000]\n"
     ]
    }
   ],
   "source": [
    "lst=[0,1,2,3,4,5,6,7,8,9,10]\n",
    "\n",
    "cube_lst=[x**3 for x in lst]\n",
    "\n",
    "print(cube_lst)"
   ]
  },
  {
   "cell_type": "markdown",
   "metadata": {},
   "source": [
    "8\\. Nested list comprehension\n",
    "\n",
    "A Pythagorean triple is an integer solution to the Pythagorean theorem $a^2+b^2=c^2$. The first Pythagorean triple is (3,4,5). Find and put in a tuple all unique Pythagorean triples for the positive integers a, b and c less than 100."
   ]
  },
  {
   "cell_type": "code",
   "execution_count": 107,
   "metadata": {},
   "outputs": [
    {
     "name": "stdout",
     "output_type": "stream",
     "text": [
      "(0, 0, 0)\n"
     ]
    }
   ],
   "source": [
    "#sbagliata perché non sapevo la formula \n",
    "\n",
    "a, b, c = [*range(0, 100)], [*range(0, 100)], [*range(0, 100)]\n",
    "\n",
    "for i in a:\n",
    "    if a[i]**2 + b[i]**2 == c[i]**2:\n",
    "        print ((a[i], b[i], c[i]))\n",
    "    else:\n",
    "        break"
   ]
  },
  {
   "cell_type": "code",
   "execution_count": 1,
   "metadata": {},
   "outputs": [
    {
     "name": "stdout",
     "output_type": "stream",
     "text": [
      "Enter upper limit:100\n",
      "3 4 5\n",
      "8 6 10\n",
      "5 12 13\n",
      "15 8 17\n",
      "12 16 20\n",
      "7 24 25\n",
      "24 10 26\n",
      "21 20 29\n",
      "16 30 34\n",
      "9 40 41\n",
      "35 12 37\n",
      "32 24 40\n",
      "27 36 45\n",
      "20 48 52\n",
      "11 60 61\n",
      "48 14 50\n",
      "45 28 53\n",
      "40 42 58\n",
      "33 56 65\n",
      "24 70 74\n",
      "13 84 85\n",
      "63 16 65\n",
      "60 32 68\n",
      "55 48 73\n",
      "48 64 80\n",
      "39 80 89\n",
      "28 96 100\n"
     ]
    }
   ],
   "source": [
    "limit=int(input(\"Enter upper limit:\"))\n",
    "c=0\n",
    "m=2\n",
    "while c<limit:\n",
    "    for n in range(1,m+1):\n",
    "        #The idea is to use square sum relation of Pythagorean triplet, \n",
    "        #i.e., addition of squares of a and b is equal to square of c, \n",
    "        #we can write these number in terms of m and n such that\n",
    "        a=m*m-n*n\n",
    "        b=2*m*n\n",
    "        c=m*m+n*n\n",
    "        if c>limit:\n",
    "            break\n",
    "        elif a==0 or b==0 or c==0:\n",
    "            break\n",
    "        print(a,b,c)\n",
    "    m=m+1"
   ]
  },
  {
   "cell_type": "markdown",
   "metadata": {},
   "source": [
    "9\\. Normalization\n",
    "\n",
    "Write a function that takes a tuple of numbers and returns it with the entries normalized to one"
   ]
  },
  {
   "cell_type": "code",
   "execution_count": 21,
   "metadata": {},
   "outputs": [
    {
     "name": "stdout",
     "output_type": "stream",
     "text": [
      "Enter numbers here w/ a comma between: 2,3,4,89.999\n",
      "[2.0, 3.0, 4.0, 89.999]\n",
      "1.0\n",
      "1.0\n",
      "1.0\n",
      "1.0\n"
     ]
    }
   ],
   "source": [
    "input_a = [float(input_a) for input_a in input(\"Enter numbers here w/ a comma between: \").split(',')]\n",
    "\n",
    "#print(input_a)\n",
    "\n",
    "#input_a=[2,3,4,5,6,83939.4940]\n",
    "\n",
    "for i in range(len(input_a)):\n",
    "    print (input_a[i]/input_a[i])"
   ]
  },
  {
   "cell_type": "code",
   "execution_count": null,
   "metadata": {},
   "outputs": [],
   "source": [
    "def normalize(input_lst):\n",
    "    for i in range(len(input_lst)):\n",
    "        return (input_list[i] / input_lst[i])\n",
    "       \n",
    "    \n",
    "input_lst = [float(input_lst) for input_lst in input(\"Enter numbers here w/ a comma between: \").split(',')]\n",
    "\n",
    "normalized = normalize(input_lst)\n",
    "\n",
    "print(normalized)\n",
    "\n",
    "##TypeError: unsupported operand type(s) for /: 'list' and 'float'\n",
    "##even if in the 1st method the error doesnt appear\n"
   ]
  },
  {
   "cell_type": "code",
   "execution_count": null,
   "metadata": {},
   "outputs": [],
   "source": []
  }
 ],
 "metadata": {
  "kernelspec": {
   "display_name": "Python 3 (ipykernel)",
   "language": "python",
   "name": "python3"
  },
  "language_info": {
   "codemirror_mode": {
    "name": "ipython",
    "version": 3
   },
   "file_extension": ".py",
   "mimetype": "text/x-python",
   "name": "python",
   "nbconvert_exporter": "python",
   "pygments_lexer": "ipython3",
   "version": "3.9.13"
  }
 },
 "nbformat": 4,
 "nbformat_minor": 2
}
