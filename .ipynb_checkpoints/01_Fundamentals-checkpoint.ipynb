{
 "cells": [
  {
   "cell_type": "markdown",
   "metadata": {},
   "source": [
    "# Modules/packages/libraries\n",
    "\n",
    "Definitions:\n",
    "\n",
    "  * Modules:\n",
    "  A module is a file which contains python functions, global variables etc. It is nothing but .py file which has python executable code / statement.\n",
    "\n",
    "  * Packages:\n",
    "  A package is a namespace which contains multiple package/modules. It is a directory which contains a special file `__init__.py`\n",
    "  \n",
    "  * Libraries:\n",
    "  A library is a collection of various packages. There is no difference between package and python library conceptually.\n",
    "  \n",
    "Modules/packages/libraries can be easily \"imported\" and made functional in your python code. A set of libriaries comes with every python installation. Others can be installed locally and then imported. Your own code sitting somewhere else in your local computer can be imported too.\n",
    "\n",
    "Further details (very important!) on packages and how to create them can be found online. We may find the need of creating our own during the course."
   ]
  },
  {
   "cell_type": "code",
   "execution_count": 1,
   "metadata": {
    "collapsed": true
   },
   "outputs": [
    {
     "name": "stdout",
     "output_type": "stream",
     "text": [
      "3.141592653589793\n",
      "3.141592653589793\n",
      "3.141592653589793\n",
      "2.6457513110645907\n"
     ]
    }
   ],
   "source": [
    "###### all the \"stuff\" that is in the math library can be used\n",
    "import math\n",
    "print(math.pi)\n",
    "\n",
    "# you can give math a label for convenience\n",
    "import math as m\n",
    "print (m.pi)\n",
    "\n",
    "# alternatively you can import only a given \"thing\" from the library\n",
    "from math import pi    #you can add several libraries at once, just list them separated by a \", \"\n",
    "print (pi)\n",
    "\n",
    "# or just get everything (very dangerous!!!)\n",
    "from math import *\n",
    "print (sqrt(7))"
   ]
  },
  {
   "cell_type": "markdown",
   "metadata": {},
   "source": [
    "To know which modules are there for you to use just type:"
   ]
  },
  {
   "cell_type": "code",
   "execution_count": 2,
   "metadata": {},
   "outputs": [
    {
     "name": "stdout",
     "output_type": "stream",
     "text": [
      "\n",
      "Please wait a moment while I gather a list of all available modules...\n",
      "\n"
     ]
    },
    {
     "name": "stderr",
     "output_type": "stream",
     "text": [
      "WARNING: AstropyDeprecationWarning: The private astropy._erfa module has been made into its own package, pyerfa, which is a dependency of astropy and can be imported directly using \"import erfa\" [astropy._erfa]\n",
      "C:\\ProgramData\\Anaconda3\\lib\\site-packages\\paramiko\\transport.py:219: CryptographyDeprecationWarning: Blowfish has been deprecated\n",
      "  \"class\": algorithms.Blowfish,\n",
      "C:\\ProgramData\\Anaconda3\\lib\\site-packages\\llvmlite\\llvmpy\\__init__.py:3: UserWarning: The module `llvmlite.llvmpy` is deprecated and will be removed in the future.\n",
      "  warnings.warn(\n",
      "C:\\ProgramData\\Anaconda3\\lib\\site-packages\\nltk\\twitter\\__init__.py:20: UserWarning: The twython library has not been installed. Some functionality from the twitter package will not be available.\n",
      "  warnings.warn(\n",
      "C:\\ProgramData\\Anaconda3\\lib\\pkgutil.py:93: UserWarning: The numpy.array_api submodule is still experimental. See NEP 47.\n",
      "  __import__(info.name)\n",
      "C:\\ProgramData\\Anaconda3\\lib\\site-packages\\_distutils_hack\\__init__.py:33: UserWarning: Setuptools is replacing distutils.\n",
      "  warnings.warn(\"Setuptools is replacing distutils.\")\n",
      "No QCoreApplication instance found. Application patches not applied. You have to call load_stylesheet function after instantiation of QApplication to take effect. \n",
      "C:\\ProgramData\\Anaconda3\\lib\\pkgutil.py:108: VisibleDeprecationWarning:\n",
      "\n",
      "zmq.eventloop.minitornado is deprecated in pyzmq 14.0 and will be removed.\n",
      "    Install tornado itself to use zmq with the tornado IOLoop.\n",
      "    \n",
      "\n"
     ]
    },
    {
     "name": "stdout",
     "output_type": "stream",
     "text": [
      "Cython              commctrl            mmapfile            sniffio\n",
      "IPython             compileall          mmsystem            snowballstemmer\n",
      "OpenSSL             comtypes            mock                socket\n",
      "PIL                 concurrent          modulefinder        socketserver\n",
      "PyQt5               conda               mpmath              socks\n",
      "TBB                 conda_build         msgpack             sockshandler\n",
      "__future__          conda_content_trust msilib              sortedcollections\n",
      "_abc                conda_env           msvcrt              sortedcontainers\n",
      "_aix_support        conda_pack          multipledispatch    soupsieve\n",
      "_argon2_cffi_bindings conda_package_handling multiprocessing     sphinx\n",
      "_ast                conda_token         munkres             spyder\n",
      "_asyncio            conda_verify        mypy_extensions     spyder_kernels\n",
      "_bisect             configparser        nacl                sqlalchemy\n",
      "_black_version      constantly          navigator_updater   sqlite3\n",
      "_blake2             contextlib          nbclassic           sre_compile\n",
      "_bootlocale         contextvars         nbclient            sre_constants\n",
      "_bootsubprocess     contourpy           nbconvert           sre_parse\n",
      "_bz2                cookiecutter        nbformat            ssl\n",
      "_cffi_backend       copy                nest_asyncio        sspi\n",
      "_codecs             copyreg             netbios             sspicon\n",
      "_codecs_cn          crypt               netrc               stack_data\n",
      "_codecs_hk          cryptography        networkx            stat\n",
      "_codecs_iso2022     cssselect           nltk                statistics\n",
      "_codecs_jp          csv                 nntplib             statsmodels\n",
      "_codecs_kr          ctypes              nose                string\n",
      "_codecs_tw          curl                notebook            stringprep\n",
      "_collections        curses              notebook_shim       struct\n",
      "_collections_abc    cwp                 nt                  subprocess\n",
      "_compat_pickle      cycler              ntpath              sunau\n",
      "_compression        cython              ntsecuritycon       symbol\n",
      "_contextvars        cytoolz             nturl2path          sympy\n",
      "_csv                daal4py             numba               symtable\n",
      "_ctypes             dask                numbergen           sys\n",
      "_ctypes_test        dataclasses         numbers             sysconfig\n",
      "_datetime           datashader          numexpr             tables\n",
      "_decimal            datashape           numpy               tabnanny\n",
      "_distutils_hack     datetime            numpydoc            tabulate\n",
      "_elementtree        dateutil            odbc                tarfile\n",
      "_functools          dbi                 olefile             tbb\n",
      "_hashlib            dbm                 onedal              tblib\n",
      "_heapq              dde                 opcode              telnetlib\n",
      "_imp                debugpy             openpyxl            tempfile\n",
      "_io                 decimal             operator            tenacity\n",
      "_json               decorator           optparse            terminado\n",
      "_locale             defusedxml          os                  test\n",
      "_lsprof             diff_match_patch    packaging           test_pycosat\n",
      "_lzma               difflib             pandas              testpath\n",
      "_markupbase         dis                 pandocfilters       text_unidecode\n",
      "_md5                distributed         panel               textdistance\n",
      "_msi                distutils           param               textwrap\n",
      "_multibytecodec     doctest             paramiko            this\n",
      "_multiprocessing    docutils            parsel              threading\n",
      "_nsis               email               parser              threadpoolctl\n",
      "_opcode             encodings           parso               three_merge\n",
      "_operator           ensurepip           partd               tifffile\n",
      "_osx_support        entrypoints         past                time\n",
      "_overlapped         enum                pathlib             timeit\n",
      "_peg_parser         erfa                pathspec            timer\n",
      "_pickle             errno               patsy               tinycss\n",
      "_plotly_future_     et_xmlfile          pdb                 tkinter\n",
      "_plotly_utils       executing           pep8                tldextract\n",
      "_py_abc             fastjsonschema      perfmon             tlz\n",
      "_pydecimal          faulthandler        pexpect             token\n",
      "_pyio               filecmp             pickle              tokenize\n",
      "_pyrsistent_version fileinput           pickleshare         toml\n",
      "_pytest             filelock            pickletools         tomli\n",
      "_queue              flake8              pip                 toolz\n",
      "_random             flask               pipes               tornado\n",
      "_ruamel_yaml        fnmatch             pkg_resources       tqdm\n",
      "_sha1               fontTools           pkginfo             trace\n",
      "_sha256             formatter           pkgutil             traceback\n",
      "_sha3               fractions           platform            tracemalloc\n",
      "_sha512             fsspec              platformdirs        traitlets\n",
      "_signal             ftplib              plistlib            tty\n",
      "_sitebuiltins       functools           plotly              turtle\n",
      "_socket             future              pluggy              turtledemo\n",
      "_sqlite3            gc                  poplib              twisted\n",
      "_sre                genericpath         posixpath           types\n",
      "_ssl                gensim              poyo                typing\n",
      "_stat               getopt              pprint              typing_extensions\n",
      "_statistics         getpass             profile             ujson\n",
      "_string             gettext             prometheus_client   unicodedata\n",
      "_strptime           glob                prompt_toolkit      unidecode\n",
      "_struct             glob2               protego             unittest\n",
      "_symtable           graphlib            pstats              urllib\n",
      "_system_path        greenlet            psutil              urllib3\n",
      "_testbuffer         gzip                pty                 uu\n",
      "_testcapi           h5py                ptyprocess          uuid\n",
      "_testconsole        hamcrest            pure_eval           venv\n",
      "_testimportmultiple hashlib             pvectorc            w3lib\n",
      "_testinternalcapi   heapdict            py                  warnings\n",
      "_testmultiphase     heapq               py_compile          watchdog\n",
      "_thread             hmac                pyasn1              wave\n",
      "_threading_local    holoviews           pyasn1_modules      wcwidth\n",
      "_tkinter            html                pyclbr              weakref\n",
      "_tracemalloc        http                pycodestyle         webbrowser\n",
      "_uuid               hvplot              pycosat             webencodings\n",
      "_warnings           hyperlink           pycparser           websocket\n",
      "_weakref            idlelib             pyct                werkzeug\n",
      "_weakrefset         idna                pycurl              wheel\n",
      "_win32sysloader     imagecodecs         pydispatch          widgetsnbextension\n",
      "_winapi             imageio             pydoc               win2kras\n",
      "_winxptheme         imagesize           pydoc_data          win32api\n",
      "_xxsubinterpreters  imaplib             pydocstyle          win32clipboard\n",
      "_yaml               imghdr              pyexpat             win32com\n",
      "_zoneinfo           imp                 pyflakes            win32con\n",
      "abc                 importlib           pygments            win32console\n",
      "adodbapi            importlib_metadata  pylab               win32cred\n",
      "afxres              incremental         pylint              win32crypt\n",
      "aifc                inflection          pyls_spyder         win32cryptcon\n",
      "alabaster           iniconfig           pylsp               win32ctypes\n",
      "anaconda_navigator  inspect             pylsp_black         win32event\n",
      "anaconda_project    intake              pylsp_jsonrpc       win32evtlog\n",
      "antigravity         intervaltree        pyodbc              win32evtlogutil\n",
      "anyio               io                  pyparsing           win32file\n",
      "appdirs             ipaddress           pyrsistent          win32gui\n",
      "argon2              ipykernel           pytest              win32gui_struct\n",
      "argparse            ipykernel_launcher  pythoncom           win32help\n",
      "array               ipython_genutils    pytz                win32inet\n",
      "arrow               ipywidgets          pyviz_comms         win32inetcon\n",
      "ast                 isapi               pywin               win32job\n",
      "astroid             isort               pywin32_bootstrap   win32lz\n",
      "astropy             isympy              pywin32_testutil    win32net\n",
      "asttokens           itemadapter         pywintypes          win32netcon\n",
      "asynchat            itemloaders         pywt                win32pdh\n",
      "asyncio             itertools           pyximport           win32pdhquery\n",
      "asyncore            itsdangerous        qdarkstyle          win32pdhutil\n",
      "atexit              jdcal               qstylizer           win32pipe\n",
      "atomicwrites        jedi                qtawesome           win32print\n",
      "attr                jinja2              qtconsole           win32process\n",
      "attrs               jinja2_time         qtpy                win32profile\n",
      "audioop             jmespath            queue               win32ras\n",
      "automat             joblib              queuelib            win32rcparser\n",
      "autopep8            json                quopri              win32security\n",
      "babel               json5               random              win32service\n",
      "backcall            jsonschema          rasutil             win32serviceutil\n",
      "backports           jupyter             re                  win32timezone\n",
      "base64              jupyter_client      regcheck            win32trace\n",
      "bcrypt              jupyter_console     regex               win32traceutil\n",
      "bdb                 jupyter_core        regutil             win32transaction\n",
      "binaryornot         jupyter_server      repo_cli            win32ts\n",
      "binascii            jupyterlab          reprlib             win32ui\n",
      "binhex              jupyterlab_plotly   requests            win32uiole\n",
      "binstar_client      jupyterlab_pygments requests_file       win32verstamp\n",
      "bisect              jupyterlab_server   rlcompleter         win32wnet\n",
      "bitarray            jupyterlab_widgets  rope                win_inet_pton\n",
      "bkcharts            jwt                 rtree               win_unicode_console\n",
      "black               keyring             ruamel_yaml         wincertstore\n",
      "blackd              keyword             run                 winerror\n",
      "bleach              kiwisolver          runpy               winioctlcon\n",
      "blib2to3            lazy_object_proxy   s3transfer          winnt\n",
      "bokeh               lib2to3             sched               winperf\n",
      "boto3               libarchive          scipy               winpty\n",
      "botocore            libfuturize         scrapy              winreg\n",
      "bottleneck          libpasteurize       seaborn             winsound\n",
      "brotli              lief                secrets             winxpgui\n",
      "bs4                 linecache           select              winxptheme\n",
      "builtins            llvmlite            selectors           wrapt\n",
      "bz2                 locale              send2trash          wsgiref\n",
      "cProfile            locket              service_identity    xarray\n",
      "calendar            logging             servicemanager      xdrlib\n",
      "certifi             lxml                setuptools          xlrd\n",
      "cffi                lz4                 shelve              xlsxwriter\n",
      "cgi                 lzma                shlex               xlwings\n",
      "cgitb               mailbox             shutil              xml\n",
      "chardet             mailcap             signal              xmlrpc\n",
      "charset_normalizer  markdown            sip                 xxsubtype\n",
      "chunk               markupsafe          sipconfig           yaml\n",
      "click               marshal             sipdistutils        yapf\n",
      "cloudpickle         math                site                yapftests\n",
      "clyent              matplotlib          six                 zict\n",
      "cmath               matplotlib_inline   skimage             zipapp\n",
      "cmd                 mccabe              sklearn             zipfile\n",
      "code                menuinst            sklearnex           zipimport\n",
      "codecs              mimetypes           slugify             zipp\n",
      "codeop              mistune             smart_open          zlib\n",
      "collections         mkl                 smtpd               zmq\n",
      "colorama            mkl_fft             smtplib             zoneinfo\n",
      "colorcet            mkl_random          snappy              zope\n",
      "colorsys            mmap                sndhdr              \n",
      "\n",
      "Enter any module name to get more help.  Or, type \"modules spam\" to search\n",
      "for modules whose name or summary contain the string \"spam\".\n",
      "\n",
      "None\n"
     ]
    }
   ],
   "source": [
    "print (help('modules') )\n"
   ]
  },
  {
   "cell_type": "markdown",
   "metadata": {},
   "source": [
    "`pip` is a special package. It is used from the command line to install properly (e.g. matching the version of the local packages) new packages. It can also be used from within python to check i.e. the set installed packages and their versions. N.B.: only the installed packages on top of the default ones will be listed "
   ]
  },
  {
   "cell_type": "code",
   "execution_count": 3,
   "metadata": {},
   "outputs": [
    {
     "ename": "AttributeError",
     "evalue": "module 'pip._internal.utils.misc' has no attribute 'get_installed_distributions'",
     "output_type": "error",
     "traceback": [
      "\u001b[1;31m---------------------------------------------------------------------------\u001b[0m",
      "\u001b[1;31mAttributeError\u001b[0m                            Traceback (most recent call last)",
      "Cell \u001b[1;32mIn [3], line 2\u001b[0m\n\u001b[0;32m      1\u001b[0m \u001b[38;5;28;01mimport\u001b[39;00m \u001b[38;5;21;01mpip\u001b[39;00m\n\u001b[1;32m----> 2\u001b[0m \u001b[38;5;28msorted\u001b[39m([\u001b[38;5;124m\"\u001b[39m\u001b[38;5;132;01m%s\u001b[39;00m\u001b[38;5;124m==\u001b[39m\u001b[38;5;132;01m%s\u001b[39;00m\u001b[38;5;124m\"\u001b[39m \u001b[38;5;241m%\u001b[39m (i\u001b[38;5;241m.\u001b[39mkey, i\u001b[38;5;241m.\u001b[39mversion) \u001b[38;5;28;01mfor\u001b[39;00m i \u001b[38;5;129;01min\u001b[39;00m \u001b[43mpip\u001b[49m\u001b[38;5;241;43m.\u001b[39;49m\u001b[43m_internal\u001b[49m\u001b[38;5;241;43m.\u001b[39;49m\u001b[43mutils\u001b[49m\u001b[38;5;241;43m.\u001b[39;49m\u001b[43mmisc\u001b[49m\u001b[38;5;241;43m.\u001b[39;49m\u001b[43mget_installed_distributions\u001b[49m()])\n",
      "\u001b[1;31mAttributeError\u001b[0m: module 'pip._internal.utils.misc' has no attribute 'get_installed_distributions'"
     ]
    }
   ],
   "source": [
    "import pip\n",
    "sorted([\"%s==%s\" % (i.key, i.version) for i in pip._internal.utils.misc.get_installed_distributions()])"
   ]
  },
  {
   "cell_type": "markdown",
   "metadata": {},
   "source": [
    "# Functions"
   ]
  },
  {
   "cell_type": "code",
   "execution_count": 4,
   "metadata": {},
   "outputs": [
    {
     "name": "stdout",
     "output_type": "stream",
     "text": [
      "9\n",
      "27\n",
      "cube 27\n",
      "square 9\n"
     ]
    }
   ],
   "source": [
    "def square(x):\n",
    "    \"\"\"Square of x.\"\"\"\n",
    "    return x*x\n",
    "\n",
    "def cube(x):\n",
    "    \"\"\"Cube of x.\"\"\"\n",
    "    return x*x*x\n",
    "\n",
    "# create a dictionary of functions\n",
    "funcs = {\n",
    "    'square': square,\n",
    "    'cube': cube,\n",
    "}\n",
    "\n",
    "x = 3\n",
    "print(square(x))\n",
    "print(cube(x))\n",
    "\n",
    "for func in sorted(funcs):\n",
    "    print (func, funcs[func](x))"
   ]
  },
  {
   "cell_type": "markdown",
   "metadata": {},
   "source": [
    "## Functions arguments"
   ]
  },
  {
   "cell_type": "markdown",
   "metadata": {},
   "source": [
    "What is passsed to a function is a copy of the input. Imagine we have a list *x =[1, 2, 3]*, i.e. a mutable object. If within the function the content of *x* is directly changed (e.g. *x[0] = 999*), then *x* changes outside the funciton as well. "
   ]
  },
  {
   "cell_type": "code",
   "execution_count": 5,
   "metadata": {},
   "outputs": [
    {
     "name": "stdout",
     "output_type": "stream",
     "text": [
      "[1, 2, 3]\n",
      "[999, 2, 3]\n",
      "[999, 2, 3]\n"
     ]
    }
   ],
   "source": [
    "def modify(x):\n",
    "    x[0] = 999\n",
    "    return x\n",
    "\n",
    "x = [1,2,3]\n",
    "print (x)\n",
    "print (modify(x))\n",
    "print (x)"
   ]
  },
  {
   "cell_type": "markdown",
   "metadata": {},
   "source": [
    "However, if *x* is reassigned within the function to a new object (e.g. another list), then the copy of the name *x* now points to the new object, but *x* outside the function is unhcanged."
   ]
  },
  {
   "cell_type": "code",
   "execution_count": 6,
   "metadata": {},
   "outputs": [
    {
     "name": "stdout",
     "output_type": "stream",
     "text": [
      "[1, 2, 3]\n",
      "[4, 5, 6]\n",
      "[1, 2, 3]\n"
     ]
    }
   ],
   "source": [
    "def no_modify(x):\n",
    "    x = [4,5,6]\n",
    "    return x\n",
    "\n",
    "x = [1,2,3]\n",
    "print (x)\n",
    "print (no_modify(x))\n",
    "print (x)\n"
   ]
  },
  {
   "cell_type": "markdown",
   "metadata": {},
   "source": [
    "What if the function tries to modify the value of an immutable object?"
   ]
  },
  {
   "cell_type": "markdown",
   "metadata": {},
   "source": [
    "Binding of default arguments occurs at function definition:"
   ]
  },
  {
   "cell_type": "code",
   "execution_count": 7,
   "metadata": {},
   "outputs": [
    {
     "name": "stdout",
     "output_type": "stream",
     "text": [
      "[1]\n",
      "[1, 1]\n",
      "[9, 9, 9, 1]\n",
      "[1, 1, 1]\n",
      "[1, 1, 1, 1]\n"
     ]
    }
   ],
   "source": [
    "def f(x = []):\n",
    "    x.append(1)\n",
    "    return x\n",
    "\n",
    "print (f())\n",
    "print (f())\n",
    "print (f(x = [9,9,9]))\n",
    "print (f())\n",
    "print (f())"
   ]
  },
  {
   "cell_type": "markdown",
   "metadata": {},
   "source": [
    "Try to aviod that!!"
   ]
  },
  {
   "cell_type": "code",
   "execution_count": 12,
   "metadata": {},
   "outputs": [
    {
     "name": "stdout",
     "output_type": "stream",
     "text": [
      "[1]\n",
      "[1]\n",
      "[9, 9, 9, 1]\n",
      "[1]\n",
      "[1]\n"
     ]
    }
   ],
   "source": [
    "def f(x = None):\n",
    "    if x is None:\n",
    "        x = []\n",
    "    x.append(1)\n",
    "    return x\n",
    "\n",
    "print (f())\n",
    "print (f())\n",
    "print (f(x = [9,9,9]))\n",
    "print (f())\n",
    "print (f())"
   ]
  },
  {
   "cell_type": "markdown",
   "metadata": {},
   "source": [
    "## Higher order functions\n",
    "\n",
    "A function that uses another function as an input argument or returns a function is known as a higher-order function (HOF). The most familiar examples are **`map`** and **`filter`**."
   ]
  },
  {
   "cell_type": "markdown",
   "metadata": {},
   "source": [
    "### map\n",
    "\n",
    "<u>_The map function applies a function to each member of a collection_</u>"
   ]
  },
  {
   "cell_type": "code",
   "execution_count": 17,
   "metadata": {},
   "outputs": [
    {
     "name": "stdout",
     "output_type": "stream",
     "text": [
      "[0, 1, 4, 9, 16]\n",
      "0\n",
      "1\n",
      "4\n",
      "9\n",
      "16\n"
     ]
    },
    {
     "data": {
      "text/plain": [
       "[0, 1, 4, 9, 16, 25]"
      ]
     },
     "execution_count": 17,
     "metadata": {},
     "output_type": "execute_result"
    }
   ],
   "source": [
    "x = list(map(square, range(5))) \n",
    "print (x)\n",
    "\n",
    "# Note the difference w.r.t python 2. In python 3, map returns an iterator so you can do stuff like:\n",
    "for i in map(square,range(5)): \n",
    "    print(i)\n",
    "\n",
    "# or\n",
    "[i for i in map(square,range(6))]"
   ]
  },
  {
   "cell_type": "markdown",
   "metadata": {},
   "source": [
    "### filter\n",
    "\n",
    "<u>*The filter function applies a predicate to each member of a collection, retaining only those members where the predicate is True*</u>"
   ]
  },
  {
   "cell_type": "code",
   "execution_count": 20,
   "metadata": {},
   "outputs": [
    {
     "name": "stdout",
     "output_type": "stream",
     "text": [
      "[0, 2, 4]\n"
     ]
    }
   ],
   "source": [
    "def is_even(x):\n",
    "    return x%2 == 0\n",
    "\n",
    "print (list(filter(is_even, range(5))))"
   ]
  },
  {
   "cell_type": "markdown",
   "metadata": {},
   "source": [
    "Combinations in sequence of HOF are obviously possible"
   ]
  },
  {
   "cell_type": "code",
   "execution_count": 21,
   "metadata": {},
   "outputs": [
    {
     "data": {
      "text/plain": [
       "[0, 4, 16]"
      ]
     },
     "execution_count": 21,
     "metadata": {},
     "output_type": "execute_result"
    }
   ],
   "source": [
    "list(map(square, filter(is_even, range(5))))"
   ]
  },
  {
   "cell_type": "markdown",
   "metadata": {},
   "source": [
    "### reduce\n",
    "\n",
    "The reduce function reduces a collection using a binary operator to combine items two at a time. More often than not reduce can be substituted with a more efficient for loop. It is worth mentioning it for its key role in big-data applications together with map (the map-reduce paradigm). \n",
    "N.B.: it no loger exist as built-in function in python 3, it is now part of the `functools` library"
   ]
  },
  {
   "cell_type": "code",
   "execution_count": 26,
   "metadata": {},
   "outputs": [
    {
     "data": {
      "text/plain": [
       "15"
      ]
     },
     "execution_count": 26,
     "metadata": {},
     "output_type": "execute_result"
    }
   ],
   "source": [
    "from functools import reduce\n",
    "\n",
    "def my_add(x, y):\n",
    "    return x + y\n",
    "\n",
    "\n",
    "# another implementation of the sum function\n",
    "reduce(my_add, [1,2,3,4,5])"
   ]
  },
  {
   "cell_type": "markdown",
   "metadata": {},
   "source": [
    "### zip\n",
    "\n",
    "zip is useful when you need to iterate over matched elements of multiple lists"
   ]
  },
  {
   "cell_type": "code",
   "execution_count": 29,
   "metadata": {},
   "outputs": [
    {
     "name": "stdout",
     "output_type": "stream",
     "text": [
      "1 10 a\n",
      "2 20 b\n",
      "3 30 c\n",
      "4 40 d\n"
     ]
    }
   ],
   "source": [
    "xs = [1, 2, 3, 4]\n",
    "ys = [10, 20, 30, 40]\n",
    "zs = ['a', 'b', 'c', 'd', 'e']\n",
    "\n",
    "for x, y, z in zip(xs, ys, zs):\n",
    "    print (x, y, z)"
   ]
  },
  {
   "cell_type": "markdown",
   "metadata": {},
   "source": [
    "### Custom HOF"
   ]
  },
  {
   "cell_type": "code",
   "execution_count": 34,
   "metadata": {},
   "outputs": [
    {
     "name": "stdout",
     "output_type": "stream",
     "text": [
      "[1, 2, 3, 4, 5]\n",
      "55\n",
      "225\n"
     ]
    }
   ],
   "source": [
    "def custom_sum(xs, transform):\n",
    "    \"\"\"Returns the sum of xs after a user specified transform.\"\"\"\n",
    "    return sum(map(transform, xs))\n",
    "\n",
    "xs = list(range(1,6))\n",
    "print(xs)\n",
    "print (custom_sum(xs, square))\n",
    "print (custom_sum(xs, cube))\n",
    "\n"
   ]
  },
  {
   "cell_type": "markdown",
   "metadata": {},
   "source": [
    "### Returning a function"
   ]
  },
  {
   "cell_type": "code",
   "execution_count": 35,
   "metadata": {},
   "outputs": [],
   "source": [
    "def make_logger(target):\n",
    "    def logger(data):\n",
    "        with open(target, 'a') as f: #'a' -> Append: Opens a file for appending, creates the file if it does not exist\n",
    "            f.write(data + '\\n')\n",
    "    return logger\n",
    "\n",
    "foo_logger = make_logger('foo.txt') #foo.txt will be created if not there already\n",
    "foo_logger('Hello')\n",
    "foo_logger('World')"
   ]
  },
  {
   "cell_type": "code",
   "execution_count": 37,
   "metadata": {},
   "outputs": [
    {
     "name": "stdout",
     "output_type": "stream",
     "text": [
      "Hello\n",
      "World\n"
     ]
    },
    {
     "name": "stderr",
     "output_type": "stream",
     "text": [
      "Impossibile trovare il percorso specificato.\n"
     ]
    }
   ],
   "source": [
    "! cat 'foo.txt'"
   ]
  },
  {
   "cell_type": "markdown",
   "metadata": {},
   "source": [
    "## Anonimous functions (lambda)\n",
    "\n",
    "When using functional style, there is often the need to create specific functions that perform a limited task as input to a HOF such as map or filter. In such cases, these functions are often written as anonymous or lambda functions. \n",
    "The syntax is as follows:\n",
    "\n",
    "lambda *arguments* : *expression*\n",
    "\n",
    "\n",
    "If you find it hard to understand what a lambda function is doing, it should probably be rewritten as a regular function."
   ]
  },
  {
   "cell_type": "code",
   "execution_count": 38,
   "metadata": {},
   "outputs": [
    {
     "data": {
      "text/plain": [
       "7"
      ]
     },
     "execution_count": 38,
     "metadata": {},
     "output_type": "execute_result"
    }
   ],
   "source": [
    "sum = lambda x,y: x+y\n",
    "sum(3,4)"
   ]
  },
  {
   "cell_type": "code",
   "execution_count": 39,
   "metadata": {},
   "outputs": [
    {
     "name": "stdout",
     "output_type": "stream",
     "text": [
      "0\n",
      "1\n",
      "4\n",
      "9\n",
      "16\n"
     ]
    }
   ],
   "source": [
    "for i in map(lambda x: x*x, range(5)): print (i)"
   ]
  },
  {
   "cell_type": "code",
   "execution_count": 60,
   "metadata": {},
   "outputs": [
    {
     "name": "stdout",
     "output_type": "stream",
     "text": [
      "[1, 2, 3, 4, 5, 6, 7, 8, 9]\n",
      "[1, 4, 9, 16, 25, 36, 49, 64, 81]\n",
      "285\n",
      "285\n"
     ]
    }
   ],
   "source": [
    "# what does this function do?\n",
    "from functools import reduce\n",
    "s1 = reduce(lambda x, y: x+y, map(lambda x: x**2, range(1,10))) #il primo argomento mi definisce la funzione, in questo caso\n",
    "                                                                #una somma, come se avessi fatto def sum: (come my_add).\n",
    "                                                                #il secondo argomento è la lista da sommare, come se creassi una\n",
    "                                                                #lista di numeri che sono stati elevati alla 2a\n",
    "print(list(range(1,10)))\n",
    "my_list = []\n",
    "for i in range (1,10):\n",
    "    my_list.append(i**2)\n",
    "print(my_list)\n",
    "add_sum=reduce(my_add, my_list)\n",
    "print(add_sum)\n",
    "print(s1)\n"
   ]
  },
  {
   "cell_type": "markdown",
   "metadata": {},
   "source": [
    "## Recursive functions "
   ]
  },
  {
   "cell_type": "code",
   "execution_count": 2,
   "metadata": {},
   "outputs": [
    {
     "name": "stdout",
     "output_type": "stream",
     "text": [
      "[1, 1, 2, 3, 5, 8, 13, 21, 34, 55]\n"
     ]
    }
   ],
   "source": [
    "def fib1(n):\n",
    "    \"\"\"Fib with recursion.\"\"\"\n",
    "\n",
    "    # base case\n",
    "    if n==0 or n==1:\n",
    "        return 1\n",
    "    # recursive case\n",
    "    else:\n",
    "        return fib1(n-1) + fib1(n-2)\n",
    "\n",
    "    \n",
    "print ([fib1(i) for i in range(10)])"
   ]
  },
  {
   "cell_type": "code",
   "execution_count": 3,
   "metadata": {},
   "outputs": [
    {
     "name": "stdout",
     "output_type": "stream",
     "text": [
      "[1, 1, 2, 3, 5, 8, 13, 21, 34, 55]\n"
     ]
    }
   ],
   "source": [
    "# In Python, a more efficient version that does not use recursion is\n",
    "\n",
    "def fib2(n):\n",
    "    \"\"\"Fib without recursion.\"\"\"\n",
    "    a, b = 0, 1\n",
    "    for i in range(1, n+1):\n",
    "        a, b = b, a+b\n",
    "    return b\n",
    "\n",
    "print ([fib2(i) for i in range(10)])"
   ]
  },
  {
   "cell_type": "code",
   "execution_count": 4,
   "metadata": {},
   "outputs": [
    {
     "name": "stdout",
     "output_type": "stream",
     "text": [
      "7.51 ms ± 469 µs per loop (mean ± std. dev. of 7 runs, 100 loops each)\n",
      "3.58 µs ± 427 ns per loop (mean ± std. dev. of 7 runs, 100,000 loops each)\n"
     ]
    }
   ],
   "source": [
    "# check indeed the timing:\n",
    "\n",
    "%timeit fib1(20)\n",
    "%timeit fib2(20)\n"
   ]
  },
  {
   "cell_type": "markdown",
   "metadata": {},
   "source": [
    "## Iterators\n",
    "\n",
    "Iterators represent streams of values. Because only one value is consumed at a time, they use very little memory. **Use of iterators is very helpful for working with data sets too large to fit into RAM**."
   ]
  },
  {
   "cell_type": "code",
   "execution_count": 6,
   "metadata": {},
   "outputs": [
    {
     "name": "stdout",
     "output_type": "stream",
     "text": [
      "1\n",
      "2\n",
      "3\n"
     ]
    }
   ],
   "source": [
    "# Iterators can be created from sequences with the built-in function iter()\n",
    "\n",
    "xs = [1,2,3]\n",
    "x_iter = iter(xs)\n",
    "\n",
    "print (next(x_iter))\n",
    "print (next(x_iter))\n",
    "print (next(x_iter))\n"
   ]
  },
  {
   "cell_type": "code",
   "execution_count": 7,
   "metadata": {},
   "outputs": [
    {
     "name": "stdout",
     "output_type": "stream",
     "text": [
      "1\n",
      "2\n",
      "3\n"
     ]
    }
   ],
   "source": [
    "# Most commonly, iterators are used (automatically) within a for loop\n",
    "# which terminates when it encouters a StopIteration exception\n",
    "\n",
    "x_iter = iter(xs)\n",
    "for x in x_iter:\n",
    "    print (x)"
   ]
  },
  {
   "cell_type": "markdown",
   "metadata": {},
   "source": [
    "## More on comprehensions"
   ]
  },
  {
   "cell_type": "code",
   "execution_count": 11,
   "metadata": {},
   "outputs": [
    {
     "name": "stdout",
     "output_type": "stream",
     "text": [
      "<generator object <genexpr> at 0x0000023050E0F3C0>\n",
      "[0, 1, 2, 3, 4, 5, 6, 7, 8, 9]\n",
      "{0, 1, 2, 3, 4, 5, 6, 7, 8, 9}\n",
      "{0: 'x', 1: 'x', 2: 'x', 3: 'x', 4: 'x', 5: 'x', 6: 'x', 7: 'x', 8: 'x', 9: 'x'}\n",
      "count(10)\n"
     ]
    }
   ],
   "source": [
    "# A generator expression\n",
    "\n",
    "print ((x for x in range(10)))\n",
    "\n",
    "# A list comprehesnnion\n",
    "\n",
    "print ([x for x in range(10)])\n",
    "\n",
    "# A set comprehension\n",
    "\n",
    "print ({x for x in range(10)})\n",
    "\n",
    "# A dictionary comprehension\n",
    "\n",
    "print ({x: \"x\" for x in range(10)})\n"
   ]
  },
  {
   "cell_type": "markdown",
   "metadata": {},
   "source": [
    "## Useful Modules\n",
    "\n",
    "You may want to have a look at the content of the following modules for further usage of (HO) functions:\n",
    "  - [operator](https://docs.python.org/3/library/operator.html)\n",
    "  - [functools](https://docs.python.org/3/library/functools.html)\n",
    "  - [itertools](https://docs.python.org/3/library/itertools.html)\n",
    "  - [toolz](https://pypi.org/project/toolz/)\n",
    "  - [funcy](https://pypi.org/project/funcy/)"
   ]
  },
  {
   "cell_type": "markdown",
   "metadata": {},
   "source": [
    "## Decorators\n",
    "\n",
    "Decorators are a type of HOF that take a function and return a wrapped function that provides additional useful properties.\n",
    "\n",
    "Examples:\n",
    "\n",
    "  - logging\n",
    "  - profiling\n",
    "  - Just-In-Time (JIT) compilation"
   ]
  },
  {
   "cell_type": "code",
   "execution_count": 12,
   "metadata": {},
   "outputs": [],
   "source": [
    "def my_decorator(func):\n",
    "    def wrapper():\n",
    "        print(\"Something is happening before the function is called.\")\n",
    "        func()\n",
    "        print(\"Something is happening after the function is called.\")\n",
    "    return wrapper\n",
    "\n",
    "def say_whee():\n",
    "    print(\"Whee!\")\n",
    "\n",
    "say_whee = my_decorator(say_whee)"
   ]
  },
  {
   "cell_type": "code",
   "execution_count": 13,
   "metadata": {},
   "outputs": [
    {
     "name": "stdout",
     "output_type": "stream",
     "text": [
      "Something is happening before the function is called.\n",
      "Whee!\n",
      "Something is happening after the function is called.\n"
     ]
    }
   ],
   "source": [
    "say_whee()"
   ]
  },
  {
   "cell_type": "markdown",
   "metadata": {},
   "source": [
    "Python allows you to use decorators in a simpler way with the @ symbol, sometimes called the “pie” syntax"
   ]
  },
  {
   "cell_type": "code",
   "execution_count": 14,
   "metadata": {},
   "outputs": [],
   "source": [
    "def my_decorator(func):\n",
    "    def wrapper():\n",
    "        print(\"Something is happening before the function is called.\")\n",
    "        func()\n",
    "        print(\"Something is happening after the function is called.\")\n",
    "    return wrapper\n",
    "\n",
    "@my_decorator\n",
    "def say_whee():\n",
    "    print(\"Whee!\")"
   ]
  },
  {
   "cell_type": "code",
   "execution_count": 15,
   "metadata": {},
   "outputs": [
    {
     "name": "stdout",
     "output_type": "stream",
     "text": [
      "Something is happening before the function is called.\n",
      "Whee!\n",
      "Something is happening after the function is called.\n"
     ]
    }
   ],
   "source": [
    "say_whee()"
   ]
  },
  {
   "cell_type": "markdown",
   "metadata": {},
   "source": [
    "# Classes and Objects\n",
    "\n",
    "Old school object-oriented programming is possible and often used in python. Classes are defined similarly to standard object-oriented languages, with similar functionalities.\n",
    "\n",
    "The main python doc [page](https://docs.python.org/3/tutorial/classes.html) is worth reading through "
   ]
  },
  {
   "cell_type": "code",
   "execution_count": 16,
   "metadata": {},
   "outputs": [
    {
     "name": "stdout",
     "output_type": "stream",
     "text": [
      "buddy 12\n",
      "3\n"
     ]
    }
   ],
   "source": [
    "class Pet:\n",
    "    # the \"constructor\"\n",
    "    def __init__(self, name, age):  #inizialize the elements of the class\n",
    "        self.name=name\n",
    "        self.age=age\n",
    "    # class functions take the \"self\" parameter !!!\n",
    "    def set_name(self,name):\n",
    "        self.name=name\n",
    "    def convert_age(self,factor):\n",
    "        self.age*=factor\n",
    "\n",
    "buddy=Pet(\"buddy\",12)\n",
    "print (buddy.name, buddy.age)\n",
    "buddy.age=3\n",
    "print (buddy.age)\n",
    "\n"
   ]
  },
  {
   "cell_type": "code",
   "execution_count": 17,
   "metadata": {},
   "outputs": [
    {
     "name": "stdout",
     "output_type": "stream",
     "text": [
      "tobia\n",
      "70\n"
     ]
    }
   ],
   "source": [
    "# ineritance is straightforward\n",
    "class Dog(Pet):\n",
    "    # the following variables is \"global\", i.e. holds for all \"Dog\" objects\n",
    "    species = \"mammal\"\n",
    "    # functions can be redefined as usual\n",
    "    def convert_age(self):\n",
    "        self.age*=7\n",
    "    def set_species(self, species):\n",
    "        self.species = species\n",
    "        \n",
    "puppy=Dog(\"tobia\",10)\n",
    "print(puppy.name)\n",
    "puppy.convert_age()\n",
    "print(puppy.age)\n",
    "\n"
   ]
  },
  {
   "cell_type": "code",
   "execution_count": null,
   "metadata": {},
   "outputs": [],
   "source": []
  }
 ],
 "metadata": {
  "kernelspec": {
   "display_name": "Python 3 (ipykernel)",
   "language": "python",
   "name": "python3"
  },
  "language_info": {
   "codemirror_mode": {
    "name": "ipython",
    "version": 3
   },
   "file_extension": ".py",
   "mimetype": "text/x-python",
   "name": "python",
   "nbconvert_exporter": "python",
   "pygments_lexer": "ipython3",
   "version": "3.9.13"
  }
 },
 "nbformat": 4,
 "nbformat_minor": 2
}
