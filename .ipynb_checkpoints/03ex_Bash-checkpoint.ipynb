{
 "cells": [
  {
   "cell_type": "markdown",
   "id": "b5746bd0",
   "metadata": {},
   "source": [
    "The following exercises are meant to be solved by gathering the bash commands incrimentally in two scripts, one for ex 1.* the other for ex 2.* "
   ]
  },
  {
   "cell_type": "markdown",
   "id": "4e60de78",
   "metadata": {},
   "source": [
    "### Ex 1"
   ]
  },
  {
   "cell_type": "markdown",
   "id": "6759df36",
   "metadata": {},
   "source": [
    "1\\.a Make a new directory called `students` in your home. Download a csv file with the list of students of this lab from [here](https://www.dropbox.com/s/867rtx3az6e9gm8/LCP_22-23_students.csv) (use the [[`wget`]](https://man7.org/linux/man-pages/man1/wget.1.html) command) and copy that to `students`. First check whether the file is already there"
   ]
  },
  {
   "cell_type": "markdown",
   "id": "4dffbf7e",
   "metadata": {},
   "source": [
    "```bash\n",
    "mkdir stdents\n",
    "wget https://www.dropbox.com/s/867rtx3az6e9gm8/LCP_22-23_students.csv\n",
    "cp LCP_22-23_students.csv students\n",
    "\n",
    "#alternatively \n",
    "\n",
    "mkdir students\n",
    "wget https://www.dropbox.com/s/867rtx3az6e9gm8/LCP_22-23_students.csv students\n",
    "\n",
    "```"
   ]
  },
  {
   "cell_type": "markdown",
   "id": "798c0c9d",
   "metadata": {},
   "source": [
    "1\\.b Make two new files, one containing the students belonging to PoD, the other to Physics."
   ]
  },
  {
   "cell_type": "markdown",
   "id": "2967141e",
   "metadata": {},
   "source": [
    "```bash\n",
    "touch pod.txt\n",
    "grep \"PoD\" LCP_22-23_students.csv > pod.txt #stdout\n",
    "touch phy.txt\n",
    "grep \"Physics\" LCP_22-23_students.csv > phy.txt #stdout\n",
    "\n",
    "```"
   ]
  },
  {
   "cell_type": "markdown",
   "id": "8a43d622",
   "metadata": {},
   "source": [
    "1\\.c For each letter of the alphabet, count the number of students whose surname starts with that letter. "
   ]
  },
  {
   "cell_type": "markdown",
   "id": "b81e988d",
   "metadata": {},
   "source": [
    "<u>First attempt</u>\\\n",
    "*It does print the alphabet with the counter, but it doesn't actually count the letters*\n",
    "```bash\n",
    "#!/bin/bash\n",
    "\n",
    "# file name stored in variable\n",
    "phy.txt=$1\n",
    "\n",
    "# initialize an array to store the count of names starting with each letter of the alphabet\n",
    "declare -a count=(0 0 0 0 0 0 0 0 0 0 0 0 0 0 0 0 0 0 0 0 0 0 0 0 0 0 0 0 0)\n",
    "\n",
    "# loop through each line in the file\n",
    "while read line; do\n",
    "  # extract the first letter of the surname\n",
    "  first_letter=$(echo $line | cut -c1 | tr '[:lower:]' '[:upper:]')\n",
    "  # convert the first letter to ASCII code\n",
    "  ascii_code=$(printf \"%d\\n\" \"'$first_letter\")\n",
    "  # update the count for that letter\n",
    "  count[$((ascii_code - 65))]=$((count[$((ascii_code - 65))] + 1))\n",
    "done < $file\n",
    "\n",
    "# print the results\n",
    "for i in {A..Z}; do\n",
    "  ascii_code=$(printf \"%d\\n\" \"'$i\")\n",
    "  echo \"$i: ${count[$((ascii_code - 65))]}\" >> alphabeth_count.txt\n",
    "done\n",
    "```"
   ]
  },
  {
   "cell_type": "markdown",
   "id": "4ba6bc90",
   "metadata": {},
   "source": [
    "1\\.d Find out which is the letter with most counts."
   ]
  },
  {
   "cell_type": "code",
   "execution_count": null,
   "id": "d7877d33",
   "metadata": {},
   "outputs": [],
   "source": []
  },
  {
   "cell_type": "markdown",
   "id": "086a043c",
   "metadata": {},
   "source": [
    "1\\.e Assume an obvious numbering of the students in the file (first line is 1, second line is 2, etc.), group students \"modulo 18\", i.e. 1,19,37,.. 2,20,38,.. etc. and put each group in a separate file  "
   ]
  },
  {
   "cell_type": "markdown",
   "id": "1d730d21",
   "metadata": {},
   "source": [
    "### Ex 2"
   ]
  },
  {
   "cell_type": "markdown",
   "id": "4b87ecb7",
   "metadata": {},
   "source": [
    "2.a Make a copy of the file `data.csv` removing the metadata and the commas between numbers; call it `data.txt`"
   ]
  },
  {
   "cell_type": "markdown",
   "id": "4cf26e4d",
   "metadata": {},
   "source": [
    "```bash\n",
    "cp data.csv data1.csv\n",
    "sed '/#/d;s/,//g' data1.csv > data.txt\n",
    "\n",
    "```"
   ]
  },
  {
   "cell_type": "markdown",
   "id": "44eef6fd",
   "metadata": {},
   "source": [
    "[[remove character with pattern]](https://www.theunixschool.com/2014/08/sed-examples-remove-delete-chars-from-line-file.html#:~:text=13.%20To%20remove%20a%20pattern%20%C2%A0%3A)\\\n",
    "[[remove line with patter]](https://linuxhint.com/remove-lines-file-sed-command/#:~:text=Removing%20Lines%20that%20Contain%20a%20Pattern)"
   ]
  },
  {
   "cell_type": "markdown",
   "id": "344048c8",
   "metadata": {},
   "source": [
    "2\\.b How many even numbers are there?"
   ]
  },
  {
   "cell_type": "markdown",
   "id": "8b62eaed",
   "metadata": {},
   "source": [
    "<u>First method</u> with [[`awk`]](https://man7.org/linux/man-pages/man1/awk.1p.html)\n",
    "```bash\n",
    "#!/bin/bash\n",
    "data=($(awk '{print $0}' data.txt))\n",
    "even_count=0\n",
    "odd_count=0\n",
    "\n",
    "for i in \"${data[@]}\"; do\n",
    "  for num in $i; do\n",
    "    if ((num % 2 == 0)); then\n",
    "      ((even_count++))\n",
    "    else\n",
    "      ((odd_count++))\n",
    "    fi\n",
    "  done\n",
    "done\n",
    "\n",
    "echo \"The even numbers are: $even_count\" >> even_odd.txt\n",
    "echo \"The odd numbers are: $odd_count\" >> even_odd.txt\n",
    "```"
   ]
  },
  {
   "cell_type": "markdown",
   "id": "85effaf4",
   "metadata": {},
   "source": [
    "<u> Second method</u> with [[`cat`]](https://man7.org/linux/man-pages/man1/cat.1.html)\n",
    "```bash\n",
    "#!/bin/bash\n",
    "data=$(cat data.txt)\n",
    "even_count=0\n",
    "odd_count=0\n",
    "\n",
    "for i in $data\n",
    "do\n",
    "  if ((i % 2 == 0)); then\n",
    "    ((even_count++))\n",
    "  else\n",
    "    ((odd_count++))\n",
    "  fi\n",
    "done\n",
    "\n",
    "echo \"The even numbers are: $even_count\" >> even_odd_1.txt\n",
    "echo \"The odd numbers are: $odd_count\" >> even_odd_1.txt\n",
    "\n",
    "```"
   ]
  },
  {
   "cell_type": "code",
   "execution_count": 67,
   "id": "4208fffb",
   "metadata": {},
   "outputs": [
    {
     "name": "stdout",
     "output_type": "stream",
     "text": [
      "The even numbers are: 147\n",
      "The odd numbers are: 153\n"
     ]
    }
   ],
   "source": [
    "##Python solution\n",
    "\n",
    "import numpy as np\n",
    "data = np.array(np.genfromtxt('data.txt'))\n",
    "even_count, odd_count = 0, 0\n",
    "\n",
    "for i in range(0,len(data)):\n",
    "    lines = data[i]\n",
    "    \n",
    "    for num in lines:\n",
    "            if num % 2 == 0:\n",
    "                even_count += 1\n",
    "            else:\n",
    "                odd_count += 1\n",
    "\n",
    "print(\"The even numbers are:\", even_count)\n",
    "print(\"The odd numbers are:\", odd_count)\n",
    "#print((even_count+odd_count) == data.size)"
   ]
  },
  {
   "cell_type": "markdown",
   "id": "2a27138d",
   "metadata": {},
   "source": [
    "2\\.c Distinguish the entries on the basis of `sqrt(X^2 + Y^2 + Z^2)` is greater or smaller than `100*sqrt(3)/2`. Count the entries of each of the two groups "
   ]
  },
  {
   "cell_type": "markdown",
   "id": "e9b6ae4c",
   "metadata": {},
   "source": [
    "```bash\n",
    "#!/bin/bash\n",
    "\n",
    "data_file=\"data.txt\"\n",
    "\n",
    "declare -A data\n",
    "readarray -t data < \"$data_file\"\n",
    "\n",
    "x_y_z=(${data[@]:0:3})\n",
    "\n",
    "grater_count=0\n",
    "smaller_count=0\n",
    "\n",
    "for i in \"${x_y_z[@]}\"; do\n",
    "lines=($i)\n",
    "for num in \"${lines[@]}\"; do\n",
    "sqrt_sum=$(echo \"scale=4; sqrt(${lines[0]}^2 + ${lines[1]}^2 + ${lines[2]}^2)\" | bc)\n",
    "if (( $(echo \"$sqrt_sum > 100*sqrt(3)/2\" | bc -l) )); then\n",
    "((grater_count++))\n",
    "else\n",
    "((smaller_count++))\n",
    "fi\n",
    "done\n",
    "done\n",
    "\n",
    "echo \"The grater numbers are: $grater_count\" >> gr_sm.txt\n",
    "echo \"The smaller numbers are: $smaller_count\" >> gr_sm.txt\n",
    "```"
   ]
  },
  {
   "cell_type": "code",
   "execution_count": 91,
   "id": "3a5d27de",
   "metadata": {},
   "outputs": [
    {
     "name": "stdout",
     "output_type": "stream",
     "text": [
      "The grater numbers are: 114\n",
      "The smaller numbers are: 36\n"
     ]
    }
   ],
   "source": [
    "##Python solution\n",
    "\n",
    "import numpy as np\n",
    "import math as m\n",
    "data = np.array(np.genfromtxt('data.txt'))\n",
    "x_y_z = data[:,[0,1,2]]\n",
    "grater_count, smaller_count = 0, 0\n",
    "\n",
    "for i in range(0,len(x_y_z)):\n",
    "    lines = x_y_z[i]\n",
    "    #print (lines)\n",
    "    \n",
    "    for num in lines:\n",
    "            if m.sqrt(lines[0]**2 + lines[1]**2 + lines[2]**2) > 100*m.sqrt(3)/2:\n",
    "                grater_count += 1\n",
    "            else:\n",
    "                smaller_count += 1\n",
    "print(\"The grater numbers are:\", grater_count)\n",
    "print(\"The smaller numbers are:\", smaller_count)"
   ]
  },
  {
   "cell_type": "markdown",
   "id": "e937ef4e",
   "metadata": {},
   "source": [
    "2\\.d Make `n` copies of data.txt (with `n` an input parameter of the script), where the i-th copy has all the numbers divided by i (with `1<=i<=n`)."
   ]
  },
  {
   "cell_type": "markdown",
   "id": "ae40826e",
   "metadata": {},
   "source": [
    "<u>First method: translation of th py script</u>\\\n",
    "*It doesn't compute the last row. Almost sure it's a index problem. Must find it!\\\n",
    "The structure remains the same and we have two decimal digit precision*\n",
    "```bash\n",
    "#!/bin/bash\n",
    "function make_copies {\n",
    "  n=$1\n",
    "  data=()\n",
    "  while read line; do\n",
    "    data+=(\"$line\")\n",
    "  done < \"data.txt\"\n",
    "\n",
    "  for ((i=1; i<=n; i++)); do\n",
    "    filename=\"data_$i.txt\"\n",
    "    > \"$filename\"\n",
    "    for line in \"${data[@]}\"; do\n",
    "      echo $(echo \"$line\" | awk '{for (i=1; i<=NF; i++) printf \"%.2f \", $i/'$i'}') >> \"$filename\"\n",
    "    done\n",
    "  done\n",
    "}\n",
    "\n",
    "read -p \"Enter the value of n: \" n\n",
    "make_copies $n\n",
    "```"
   ]
  },
  {
   "cell_type": "code",
   "execution_count": null,
   "id": "e6495c3b",
   "metadata": {},
   "outputs": [],
   "source": [
    "##Python version\n",
    "##This work pretty good: \n",
    "##The structure remains the same and we have two decimal digit precision\n",
    "def make_copies(n):\n",
    "    with open(\"data.txt\") as f:\n",
    "        data = [[int(x) for x in line.split()] for line in f]\n",
    "\n",
    "    for i in range(1, n+1):\n",
    "        with open(\"data_\" + str(i) + \".txt\", \"w\") as f:\n",
    "            for line in data:\n",
    "                f.write(\" \".join([\"{:.2f}\".format(x / i) for x in line]) + \"\\n\")\n",
    "\n",
    "n = int(input(\"Enter the value of n: \"))\n",
    "make_copies(n)"
   ]
  },
  {
   "cell_type": "markdown",
   "id": "caf8bea7",
   "metadata": {},
   "source": [
    "<u>Second method: pure bash script</u>\\\n",
    "*It doesn't work. Doesn't maintain the array structure and compute some of the values*\n",
    "```bash\n",
    "#!/bin/bash\n",
    "\n",
    "# take input n\n",
    "read -p \"Enter number of copies: \" n\n",
    "\n",
    "# loop through 1 to n\n",
    "for ((i=1; i<=n+1; i++))\n",
    "do\n",
    "  # divide all numbers by i and save to new file\n",
    "  awk '{print $1 / '$i'}' data.txt > \"data_$i.txt\"\n",
    "done\n",
    "```"
   ]
  },
  {
   "cell_type": "markdown",
   "id": "9c92bab8",
   "metadata": {},
   "source": [
    "<u>Third method: pure bash</u>\\\n",
    "*I don't have *`bc`* on my pc so i cannot validate this script*\n",
    "```bash\n",
    "#!/bin/bash\n",
    "\n",
    "# take input n\n",
    "read -p \"Enter number of copies: \" n\n",
    "\n",
    "n=$1\n",
    "\n",
    "for ((i=1; i<=n; i++))\n",
    "do\n",
    "  filename=\"data_$i.txt\"\n",
    "  cp data.txt $filename\n",
    "  while read -r line; do\n",
    "    echo \"$(echo \"scale=2;$line/$i\" | bc)\" >> $filename\n",
    "  done < $filename\n",
    "done\n",
    "```"
   ]
  },
  {
   "cell_type": "markdown",
   "id": "359a54d2",
   "metadata": {},
   "source": [
    "<u>Fourth methos: pure bash script</u>\n",
    "##### This works pretty fine\n",
    "```bash\n",
    "#!/bin/bash\n",
    "\n",
    "# Prompt user to input the value of n\n",
    "echo \"Enter the value of n:\"\n",
    "read n\n",
    "\n",
    "# Loop through n\n",
    "for ((i=1; i<=n; i++))\n",
    "do\n",
    "  # Copy data.txt to a new file with the name data_$i.txt\n",
    "  cp data.txt data_$i.txt\n",
    "  # Divide all the numbers in data_$i.txt by i and maintain the original array structure\n",
    "  awk -v div=$i '{for (j=1; j<=NF; j++) {$j=$j/div; printf \"%.2f \", $j}; print \"\"}' data_$i.txt > temp.txt\n",
    "  mv temp.txt data_$i.txt\n",
    "done\n",
    "```"
   ]
  },
  {
   "cell_type": "code",
   "execution_count": null,
   "id": "d2971225",
   "metadata": {},
   "outputs": [],
   "source": []
  }
 ],
 "metadata": {
  "kernelspec": {
   "display_name": "Python 3 (ipykernel)",
   "language": "python",
   "name": "python3"
  },
  "language_info": {
   "codemirror_mode": {
    "name": "ipython",
    "version": 3
   },
   "file_extension": ".py",
   "mimetype": "text/x-python",
   "name": "python",
   "nbconvert_exporter": "python",
   "pygments_lexer": "ipython3",
   "version": "3.9.13"
  }
 },
 "nbformat": 4,
 "nbformat_minor": 5
}
