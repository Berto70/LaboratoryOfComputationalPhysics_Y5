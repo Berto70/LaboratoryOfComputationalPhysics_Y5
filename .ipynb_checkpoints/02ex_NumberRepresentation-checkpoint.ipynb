{
 "cells": [
  {
   "cell_type": "markdown",
   "metadata": {},
   "source": [
    "1\\. Write a function that converts number representation, bin<->dec<->hex. (Clearly using the corresponding python built-in functions is not fair..)"
   ]
  },
  {
   "cell_type": "code",
   "execution_count": 30,
   "metadata": {},
   "outputs": [
    {
     "name": "stdout",
     "output_type": "stream",
     "text": [
      "2578\n",
      "100000000\n",
      "2578\n",
      "a12\n",
      "d\n",
      "101000010010\n"
     ]
    }
   ],
   "source": [
    "#print (1 % 2)\n",
    "#\"modulus\" function gives the remaining of the division of the first divided from the secondo (x % y)\n",
    "\n",
    "def bin_to_dec(x):\n",
    "    x=str(x)\n",
    "    x=x[::-1]\n",
    "    num=0\n",
    "    for i in range (0,len(x)):\n",
    "        num+=int(x[i])*(2**i)\n",
    "    return num\n",
    "print(bin_to_dec(101000010010))\n",
    "\n",
    "def dec_to_bin(x):\n",
    "    conv = \"\"\n",
    "    while (x != 0):\n",
    "        conv+= str(x % 2)\n",
    "        x = x // 2\n",
    "    return conv[::-1]\n",
    "\n",
    "print(dec_to_bin(256))\n",
    "\n",
    "def hex_to_dec(x):\n",
    "    Hdict={\"0\":0, \"1\":1 , \"2\":2 , \"3\":3 ,\"4\":4, \"5\":5, \"6\":6, \"7\":7 , \"8\":8, \"9\":9 , \"a\":10, \"b\":11 , \"c\":12,\"d\":13, \"e\":14 , \"f\":15}\n",
    "    #x=str(x)\n",
    "    x=x[::-1]\n",
    "    num=0\n",
    "    for i in range (0,len(x)):\n",
    "        num+=(Hdict[x[i]])*(16**i)\n",
    "    return num\n",
    "\n",
    "print(hex_to_dec(\"0a12\"))\n",
    "\n",
    "def dec_to_hex(x):\n",
    "    Hdict={\"0\":0, \"1\":1 , \"2\":2 , \"3\":3 ,\"4\":4, \"5\":5, \"6\":6, \"7\":7 , \"8\":8, \"9\":9 , \"a\":10, \"b\":11 , \"c\":12,\"d\":13, \"e\":14 , \"f\":15}\n",
    "    rev_Hdict = {value:key for (key,value) in Hdict.items()}\n",
    "    conv = \"\"\n",
    "    while (x != 0):\n",
    "        conv+= str(rev_Hdict[x % 16])\n",
    "        x = x // 16\n",
    "    return conv[::-1]\n",
    "\n",
    "print(dec_to_hex(2578))\n",
    "#print(10%16)\n",
    "\n",
    "def bin_to_hex(x):\n",
    "    return(dec_to_hex(bin_to_dec(x)))\n",
    "\n",
    "print(bin_to_hex(1101))\n",
    "\n",
    "def hex_to_bin(x):\n",
    "    return(dec_to_bin(hex_to_dec(x)))\n",
    "\n",
    "print(hex_to_bin(\"a12\"))"
   ]
  },
  {
   "cell_type": "markdown",
   "metadata": {},
   "source": [
    "2\\. Write a function that converts a 32 bit word into a single precision floating point (i.e. interprets the various bits as sign, mantissa and exponent)"
   ]
  },
  {
   "cell_type": "code",
   "execution_count": 39,
   "metadata": {},
   "outputs": [
    {
     "name": "stdout",
     "output_type": "stream",
     "text": [
      "The initial was  11000010111011010100000000000000 \n",
      "\n",
      "Coverting in single precision floating point ->  -118.625\n",
      "None\n"
     ]
    }
   ],
   "source": [
    "def bin_to_float(x):\n",
    "    x=str(x)\n",
    "    bias=127\n",
    "    sign = int(x[0])\n",
    "    exp = (x[1:9])\n",
    "    mant = (x[9:])\n",
    "    frac=1\n",
    "\n",
    "    for i in range(1,24):\n",
    "        frac +=  int(mant[i-1])*2**(-i)\n",
    "\n",
    "    print(\"The initial was \" , x ,\"\\n\")\n",
    "    print(\"Coverting in single precision floating point -> \", (-1)**(sign) * frac * 2**(bin_to_dec(exp) - bias))\n",
    "\n",
    "print(bin_to_float(11000010111011010100000000000000))"
   ]
  },
  {
   "cell_type": "markdown",
   "metadata": {},
   "source": [
    "3\\. Write a program to determine the underflow and overflow limits (within a factor of 2) for python on your computer. \n",
    "\n",
    "**Tips**: define two variables inizialized to 1 and halve/double them enough time to exceed the under/over-flow limits  "
   ]
  },
  {
   "cell_type": "code",
   "execution_count": 6,
   "metadata": {},
   "outputs": [
    {
     "name": "stdout",
     "output_type": "stream",
     "text": [
      "Overflow: The highest power of 2 achievable is 2^ 1024.0 = 8.98846567431158e+307\n",
      "Underflow: The lowest power of 2 achievable is 2^ -1075 = 5e-324\n"
     ]
    }
   ],
   "source": [
    "import math\n",
    "\n",
    "over_var = 1.0\n",
    "under_var = 1.0\n",
    "\n",
    "under_count = 0\n",
    "over_count = 0 \n",
    "\n",
    "while over_var < math.inf:\n",
    "    over_var *= 2\n",
    "    over_count += 1.0\n",
    "print(\"Overflow: The highest power of 2 achievable is 2^\", over_count, \"=\", 2**(over_count-1))\n",
    "\n",
    "while under_var != 0:\n",
    "    under_var /= 2\n",
    "    under_count += 1\n",
    "print(\"Underflow: The lowest power of 2 achievable is 2^\", -under_count, \"=\", 2**(-under_count+1))\n"
   ]
  },
  {
   "cell_type": "markdown",
   "metadata": {},
   "source": [
    "4\\. Write a program to determine the machine precision\n",
    "\n",
    "**Tips**: define a new variable by adding a smaller and smaller value (proceeding similarly to prob. 2) to an original variable and check the point where the two are the same "
   ]
  },
  {
   "cell_type": "code",
   "execution_count": 65,
   "metadata": {},
   "outputs": [
    {
     "name": "stdout",
     "output_type": "stream",
     "text": [
      "1e-16\n"
     ]
    }
   ],
   "source": [
    "import numpy as np\n",
    "def_var = 1\n",
    "i = 0 \n",
    "while def_var != (def_var + 2**(-i)):\n",
    "    def_var += 2**(-i)\n",
    "    i += 1\n",
    "print(10**(np.floor(np.log10(2**(-i)))))\n",
    "\n",
    "#n =0\n",
    "#n_current = 1\n",
    "#add = 3\n",
    "#\n",
    "#while (n_current != n):\n",
    "#    n = n_current\n",
    "#    add /= 2\n",
    "#    n_current+=add\n",
    "#    \n",
    "#print(\"Precision \", 10**(np.floor(np.log10(add))))\n"
   ]
  },
  {
   "cell_type": "markdown",
   "metadata": {},
   "source": [
    "5\\. Write a function that takes in input three parameters $a$, $b$ and $c$ and prints out the two solutions to the quadratic equation $ax^2+bx+c=0$ using the standard formula:\n",
    "$$\n",
    "x=\\frac{-b\\pm\\sqrt{b^2-4ac}}{2a}\n",
    "$$\n",
    "\n",
    "(a) use the program to compute the solution for $a=0.001$, $b=1000$ and $c=0.001$\n",
    "\n",
    "(b) re-express the standard solution formula by multiplying top and bottom by $-b\\mp\\sqrt{b^2-4ac}$ and again find the solution for $a=0.001$, $b=1000$ and $c=0.001$. How does it compare with what previously obtained? Why?\n",
    "\n",
    "(c) write a function that compute the roots of a quadratic equation accurately in all cases"
   ]
  },
  {
   "cell_type": "code",
   "execution_count": 21,
   "metadata": {},
   "outputs": [
    {
     "name": "stdout",
     "output_type": "stream",
     "text": [
      "a) \n",
      "x1= -9.999894245993346e-07 \n",
      "x2= -999999.999999\n",
      "\n",
      "b) \n",
      "x1= -1.000000000001e-06 \n",
      "x2= -1000010.5755125057\n",
      "\n",
      "c) \n",
      "x1= -1.000000000001e-06 \n",
      "x2= -999999.999999\n"
     ]
    }
   ],
   "source": [
    "import math as m\n",
    "def quadratic_formula(a,b,c):\n",
    "    x1 = (-b+m.sqrt(b**2-4*a*c))/(2*a)\n",
    "    x2 = (-b-m.sqrt(b**2-4*a*c))/(2*a)\n",
    "    \n",
    "    return x1, x2\n",
    "#print(quadratic_formula(0.001, 1000, 0.001))\n",
    "\n",
    "a = 0.001\n",
    "b = 1000\n",
    "c = 0.001\n",
    "\n",
    "#a)\n",
    "sol1, sol2 = quadratic_formula(a,b,c)\n",
    "print(\"a)\",\"\\nx1=\", sol1, \"\\nx2=\", sol2)\n",
    "\n",
    "#b)\n",
    "def inv_quadratic_formula(a,b,c):\n",
    "    y1 = (2*c)/(-b-m.sqrt(b**2-4*a*c))\n",
    "    y2 = (2*c)/(-b+m.sqrt(b**2-4*a*c)) \n",
    "    return y1, y2\n",
    "sol3, sol4 = inv_quadratic_formula(a,b,c)\n",
    "print(\"\\nb)\",\"\\nx1=\", sol3, \"\\nx2=\", sol4)\n",
    "\n",
    "#c)\n",
    "def c_quadratic_formula(a,b,c):\n",
    "    z1 = (2*c)/(-b-m.sqrt(b**2-4*a*c))\n",
    "    z2 = (-b-m.sqrt(b**2-4*a*c))/(2*a)\n",
    "    return z1, z2\n",
    "sol5, sol6 = c_quadratic_formula(a,b,c)\n",
    "print(\"\\nc)\",\"\\nx1=\", sol5, \"\\nx2=\", sol6)"
   ]
  },
  {
   "cell_type": "markdown",
   "metadata": {},
   "source": [
    "We have that in both the first and second formula, catastrophic cancellation happens for one of the two solutions. We have that b and $\\sqrt{b^2-4ac}$ are very close number and problems occur taking the difference between the two of them. In the formulas written for the z_1 and z_2 solution we take the previous ones if they don't involve the subtraction causing catastrophic cancellation.\n",
    "\n",
    "    Different from previous results --> Bad Accuracy/Roundoff Error\n",
    "    Problems in subtracting numbers really closed by in value and also in the distributive law\n",
    "    \n"
   ]
  },
  {
   "cell_type": "code",
   "execution_count": 32,
   "metadata": {},
   "outputs": [
    {
     "name": "stdout",
     "output_type": "stream",
     "text": [
      "a): \n",
      "x1 -> 1.0575401665491313e-08     <-- Bad Accuracy (least close to 0) \n",
      "x2 -> 7.247924804689582e-08\n",
      "\n",
      "b): \n",
      "x1 -> 0.0 \n",
      "x2 -> 10575.62534720993     <-- Bad Accuracy (not close to 0)\n",
      "\n",
      "c): \n",
      "x1 -> 0.0 \n",
      "x2 -> 7.247924804689582e-08\n"
     ]
    }
   ],
   "source": [
    "def verify_sol(a,b,c,x):\n",
    "    return a*x**2+b*x+c\n",
    "\n",
    "print(\"a): \\nx1 ->\", verify_sol(a,b,c,sol1), \"    <-- Bad Accuracy (least close to 0)\", \"\\nx2 ->\", verify_sol(a,b,c,sol2))\n",
    "print(\"\\nb): \\nx1 ->\", verify_sol(a,b,c,sol3),\"\\nx2 ->\", verify_sol(a,b,c,sol4), \"    <-- Bad Accuracy (not close to 0)\")\n",
    "print(\"\\nc): \\nx1 ->\", verify_sol(a,b,c,sol5),\"\\nx2 ->\", verify_sol(a,b,c,sol6))"
   ]
  },
  {
   "cell_type": "markdown",
   "metadata": {},
   "source": [
    "**6**\\. Write a program that implements the function $f(x)=x(x−1)$\n",
    "\n",
    "(a) Calculate the derivative of the function at the point $x = 1$ using the derivative definition:\n",
    "\n",
    "$$\n",
    "\\frac{{\\rm d}f}{{\\rm d}x} = \\lim_{\\delta\\to0} \\frac{f(x+\\delta)-f(x)}{\\delta}\n",
    "$$\n",
    "\n",
    "with $\\delta = 10^{−2}$. Calculate the true value of the same derivative analytically and compare with the answer your program gives. The two will not agree perfectly. Why not?\n",
    "\n",
    "(b) Repeat the calculation for $\\delta = 10^{−4}, 10^{−6}, 10^{−8}, 10^{−10}, 10^{−12}$ and $10^{−14}$. How does the accuracy scales with $\\delta$?"
   ]
  },
  {
   "cell_type": "code",
   "execution_count": 46,
   "metadata": {},
   "outputs": [
    {
     "name": "stdout",
     "output_type": "stream",
     "text": [
      "a) \n",
      "The func in 1 takes the value of 0\n",
      "The derivative in 1 takes the value of 1\n",
      "\n",
      "b) \n",
      "The limit with delta=e-2 is 1.010000000000001\n",
      "For delta = 0.01 the relative accuracy is 0.010000000000000897\n",
      "For delta = 0.0001 the relative accuracy is 9.999999988985486e-05\n",
      "For delta = 1e-06 the relative accuracy is 9.99917733279787e-07\n",
      "For delta = 1e-08 the relative accuracy is 3.922528746258536e-09\n",
      "For delta = 1e-10 the relative accuracy is 8.284037100736441e-08\n",
      "For delta = 1e-12 the relative accuracy is 8.890058334132256e-05\n",
      "For delta = 1e-14 the relative accuracy is 0.0007992778373491216\n"
     ]
    }
   ],
   "source": [
    "def f(x):\n",
    "    return x*(x-1)\n",
    "\n",
    "#a)\n",
    "def f_prime(x):\n",
    "    return 2*x-1\n",
    "\n",
    "def limit(x, delta):\n",
    "    return (f(x+delta)-f(x))/(delta)\n",
    "\n",
    "print(\"a) \\nThe func in 1 takes the value of\", f(1))\n",
    "print(\"The derivative in 1 takes the value of\", f_prime(1))\n",
    "\n",
    "#b)\n",
    "#we define accuracy\n",
    "def accuracy(x, delta):\n",
    "    return abs(f_prime(x)-limit(x,delta))\n",
    "\n",
    "print(\"\\nb) \\nThe limit with delta=e-2 is\", limit(1, 10**(-2)))\n",
    "\n",
    "for i in range (2,15,2):\n",
    "    print(\"For delta =\", 10**(-i), \"the relative accuracy is\", accuracy(1, 10**(-i)))"
   ]
  },
  {
   "cell_type": "markdown",
   "metadata": {},
   "source": [
    "    We see the accuracy hitting a minimum value for delta ~ 10^(-8) and then it starts increasing again: the two results are not\n",
    "    equal because in the derivative definition delta tends to zero, in the incremental limit computed delta = 10^(-2).\n",
    "\n",
    "    Decreasing the value of delta, the accuracy is getting better until delta = 1e-08 and \n",
    "    then getting worse for smaller values, in contrast to what expected\n"
   ]
  },
  {
   "cell_type": "markdown",
   "metadata": {},
   "source": [
    "7\\. Consider the integral of the semicircle of radius 1:\n",
    "$$\n",
    "I=\\int_{-1}^{1} \\sqrt(1-x^2) {\\rm d}x\n",
    "$$\n",
    "which it's known to be $I=\\frac{\\pi}{2}=1.57079632679...$.\n",
    "Alternatively we can use the Riemann definition of the integral:\n",
    "$$\n",
    "I=\\lim_{N\\to\\infty} \\sum_{k=1}^{N} h y_k \n",
    "$$\n",
    "\n",
    "with $h=2/N$ the width of each of the $N$ slices the domain is divided into and where\n",
    "$y_k$ is the value of the function at the $k-$th slice.\n",
    "\n",
    "(a) Write a programe to compute the integral with $N=100$. How does the result compares to the true value?\n",
    "\n",
    "(b) How much can $N$ be increased if the computation needs to be run in less than a second? What is the gain in running it for 1 minute? \n"
   ]
  },
  {
   "cell_type": "code",
   "execution_count": 1,
   "metadata": {},
   "outputs": [
    {
     "name": "stdout",
     "output_type": "stream",
     "text": [
      "The value with N=100 is 1.5691342555492505\n",
      "Expected value is 1.5707963267948966\n",
      "% change is 0.10581074180619238 %\n",
      "30 ns ± 1.9 ns per loop (mean ± std. dev. of 7 runs, 10,000,000 loops each)\n",
      "\n",
      "\n",
      "For N = 1943 and time 1 sec, the integral value is 1.5707769093179285\n",
      "% change is 0.0012361549767383113 %\n",
      "24.4 ns ± 1.1 ns per loop (mean ± std. dev. of 7 runs, 10,000,000 loops each)\n",
      "\n",
      "\n",
      "For N = 14968 and time 60 sec, the integral value is 1.5707954186253943\n",
      "% change is 5.781586618045513e-05 %\n",
      "The gain is:  1.850930746583046e-05\n",
      "33.1 ns ± 10.7 ns per loop (mean ± std. dev. of 7 runs, 10,000,000 loops each)\n"
     ]
    }
   ],
   "source": [
    "import math as m\n",
    "import time\n",
    "\n",
    "def f(x):\n",
    "    return m.sqrt(1-x**2)\n",
    "\n",
    "def r_integral(N):\n",
    "    integral = 0\n",
    "    for k in range(1, N+1):\n",
    "        integral += (2/N)*f(-1+(2/N)*k)\n",
    "    return integral\n",
    "\n",
    "#a)\n",
    "print(\"The value with N=100 is\", r_integral(100))\n",
    "print(\"Expected value is\", m.pi/2)\n",
    "print(\"% change is\", 100*abs((m.pi/2-r_integral(100)))/(m.pi/2), \"%\")\n",
    "%timeit r_integral\n",
    "\n",
    "#b)\n",
    "time_duration = 1\n",
    "time_start = time.time()\n",
    "n = 1\n",
    "while time.time() < time_start + time_duration:\n",
    "    value = r_integral(n)\n",
    "    n += 1\n",
    "one_sec_int = r_integral(n)\n",
    "print(\"\\n\\nFor N =\", n, \"and time\", time_duration, \"sec, the integral value is\", one_sec_int)\n",
    "print(\"% change is\", 100*abs((m.pi/2-one_sec_int)/(m.pi/2)), \"%\")\n",
    "%timeit one_sec_int\n",
    "\n",
    "time_duration = 60\n",
    "time_start = time.time()\n",
    "n = 1\n",
    "while time.time() < time_start + time_duration:\n",
    "    value = r_integral(n)\n",
    "    n += 1\n",
    "one_min_int = r_integral(n)\n",
    "print(\"\\n\\nFor N =\", n, \"and time\", time_duration, \"sec, the integral value is\", one_min_int)\n",
    "print(\"% change is\", 100*abs((m.pi/2-one_min_int)/(m.pi/2)), \"%\")\n",
    "print(\"The gain is: \", one_min_int - one_sec_int)\n",
    "%timeit one_min_int\n",
    "\n"
   ]
  },
  {
   "cell_type": "code",
   "execution_count": null,
   "metadata": {},
   "outputs": [],
   "source": []
  }
 ],
 "metadata": {
  "kernelspec": {
   "display_name": "Python 3 (ipykernel)",
   "language": "python",
   "name": "python3"
  },
  "language_info": {
   "codemirror_mode": {
    "name": "ipython",
    "version": 3
   },
   "file_extension": ".py",
   "mimetype": "text/x-python",
   "name": "python",
   "nbconvert_exporter": "python",
   "pygments_lexer": "ipython3",
   "version": "3.9.13"
  }
 },
 "nbformat": 4,
 "nbformat_minor": 2
}
